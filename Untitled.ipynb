{
 "cells": [
  {
   "cell_type": "code",
   "execution_count": null,
   "id": "a8405f05-3a9a-461f-b437-8f583cc46053",
   "metadata": {},
   "outputs": [
    {
     "data": {
      "text/plain": [
       "3.4.3\n"
      ]
     },
     "metadata": {},
     "output_type": "display_data"
    }
   ],
   "source": [
    "from pyspark.sql import SparkSession\n",
    "\n",
    "spark = (\n",
    "    SparkSession.builder\n",
    "    # .config(\"spark.driver.bindAddress\", \"127.0.0.1\")\n",
    "    # .config(\"spark.driver.port\", \"4040\")\n",
    "    # .config(\"spark.blockManager.port\", \"4041\")\n",
    "    .getOrCreate()\n",
    ")\n",
    "\n",
    "print(spark.version)"
   ]
  },
  {
   "cell_type": "code",
   "execution_count": null,
   "id": "6a628c08-5a33-4cec-8c06-709b77810b04",
   "metadata": {},
   "outputs": [
    {
     "name": "stderr",
     "output_type": "stream",
     "text": [
      "25/03/24 22:21:31 WARN SparkSession: Using an existing Spark session; only runtime SQL configurations will take effect.\n"
     ]
    }
   ],
   "source": [
    "spark = (\n",
    "    SparkSession.builder \\\n",
    "    .appName(\"Hello Spark\") \\\n",
    "    .master(\"local[2]\")\n",
    "    .getOrCreate()\n",
    ")"
   ]
  },
  {
   "cell_type": "code",
   "execution_count": null,
   "id": "3398de6a-d5d4-447e-acf2-f1d1f24d778d",
   "metadata": {},
   "outputs": [],
   "source": [
    "data_list = [(\"Ravi\", 27), (\"Leonard\", 22)]"
   ]
  },
  {
   "cell_type": "code",
   "execution_count": null,
   "id": "b5a8fbee-17ac-4383-8774-546b1405a726",
   "metadata": {},
   "outputs": [
    {
     "data": {
      "text/plain": [
       "Traceback (most recent call last):\n",
       "  File \"/Users/squid504s/.vscode/extensions/ms-python.python-2025.2.0-darwin-arm64/python_files/python_server.py\", line 133, in exec_user_input\n",
       "    retval = callable_(user_input, user_globals)\n",
       "  File \"<string>\", line 1\n",
       "    df = spark.createDataFrame(data_list).toDF(\"Name\n",
       "                                               ^\n",
       "SyntaxError: unterminated string literal (detected at line 1)\n",
       "\n"
      ]
     },
     "metadata": {},
     "output_type": "display_data"
    }
   ],
   "source": [
    "df = spark.createDataFrame(data_list).toDF(\"Name\", \"Age\")"
   ]
  },
  {
   "cell_type": "code",
   "execution_count": null,
   "id": "ec11d49e",
   "metadata": {},
   "outputs": [
    {
     "data": {
      "text/plain": [
       "+-------+---+\n",
       "|   Name|Age|\n",
       "+-------+---+\n",
       "|   Ravi| 27|\n",
       "|Leonard| 22|\n",
       "+-------+---+\n",
       "\n"
      ]
     },
     "metadata": {},
     "output_type": "display_data"
    }
   ],
   "source": [
    "df.show()"
   ]
  },
  {
   "cell_type": "code",
   "execution_count": null,
   "id": "e29a9497",
   "metadata": {},
   "outputs": [],
   "source": []
  }
 ],
 "metadata": {
  "kernelspec": {
   "display_name": "Python 3 (ipykernel)",
   "language": "python",
   "name": "python3"
  },
  "language_info": {
   "codemirror_mode": {
    "name": "ipython",
    "version": 3
   },
   "file_extension": ".py",
   "mimetype": "text/x-python",
   "name": "python",
   "nbconvert_exporter": "python",
   "pygments_lexer": "ipython3",
   "version": "3.10.15"
  }
 },
 "nbformat": 4,
 "nbformat_minor": 5
}
